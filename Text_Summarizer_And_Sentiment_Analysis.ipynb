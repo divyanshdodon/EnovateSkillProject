{
 "cells": [
  {
   "cell_type": "code",
   "execution_count": 1,
   "id": "divided-traffic",
   "metadata": {},
   "outputs": [
    {
     "name": "stdout",
     "output_type": "stream",
     "text": [
      "Requirement already satisfied: nltk in c:\\users\\avita\\anaconda3\\lib\\site-packages (3.6.1)\n",
      "Requirement already satisfied: tqdm in c:\\users\\avita\\anaconda3\\lib\\site-packages (from nltk) (4.59.0)\n",
      "Requirement already satisfied: joblib in c:\\users\\avita\\anaconda3\\lib\\site-packages (from nltk) (1.0.1)\n",
      "Requirement already satisfied: click in c:\\users\\avita\\anaconda3\\lib\\site-packages (from nltk) (7.1.2)\n",
      "Requirement already satisfied: regex in c:\\users\\avita\\anaconda3\\lib\\site-packages (from nltk) (2021.4.4)\n"
     ]
    }
   ],
   "source": [
    "!pip install nltk"
   ]
  },
  {
   "cell_type": "code",
   "execution_count": 2,
   "id": "internal-dayton",
   "metadata": {},
   "outputs": [
    {
     "name": "stdout",
     "output_type": "stream",
     "text": [
      "Requirement already satisfied: textblob in c:\\users\\avita\\anaconda3\\lib\\site-packages (0.17.1)\n",
      "Requirement already satisfied: nltk>=3.1 in c:\\users\\avita\\anaconda3\\lib\\site-packages (from textblob) (3.6.1)\n",
      "Requirement already satisfied: joblib in c:\\users\\avita\\anaconda3\\lib\\site-packages (from nltk>=3.1->textblob) (1.0.1)\n",
      "Requirement already satisfied: click in c:\\users\\avita\\anaconda3\\lib\\site-packages (from nltk>=3.1->textblob) (7.1.2)\n",
      "Requirement already satisfied: tqdm in c:\\users\\avita\\anaconda3\\lib\\site-packages (from nltk>=3.1->textblob) (4.59.0)\n",
      "Requirement already satisfied: regex in c:\\users\\avita\\anaconda3\\lib\\site-packages (from nltk>=3.1->textblob) (2021.4.4)\n"
     ]
    }
   ],
   "source": [
    "!pip install textblob\n"
   ]
  },
  {
   "cell_type": "code",
   "execution_count": 3,
   "id": "incomplete-arthur",
   "metadata": {},
   "outputs": [
    {
     "name": "stdout",
     "output_type": "stream",
     "text": [
      "Requirement already satisfied: newspaper3k in c:\\users\\avita\\anaconda3\\lib\\site-packages (0.2.8)\n",
      "Requirement already satisfied: requests>=2.10.0 in c:\\users\\avita\\anaconda3\\lib\\site-packages (from newspaper3k) (2.25.1)\n",
      "Requirement already satisfied: tldextract>=2.0.1 in c:\\users\\avita\\anaconda3\\lib\\site-packages (from newspaper3k) (3.1.2)\n",
      "Requirement already satisfied: lxml>=3.6.0 in c:\\users\\avita\\anaconda3\\lib\\site-packages (from newspaper3k) (4.6.3)\n",
      "Requirement already satisfied: beautifulsoup4>=4.4.1 in c:\\users\\avita\\anaconda3\\lib\\site-packages (from newspaper3k) (4.9.3)\n",
      "Requirement already satisfied: jieba3k>=0.35.1 in c:\\users\\avita\\anaconda3\\lib\\site-packages (from newspaper3k) (0.35.1)\n",
      "Requirement already satisfied: cssselect>=0.9.2 in c:\\users\\avita\\anaconda3\\lib\\site-packages (from newspaper3k) (1.1.0)\n",
      "Requirement already satisfied: feedfinder2>=0.0.4 in c:\\users\\avita\\anaconda3\\lib\\site-packages (from newspaper3k) (0.0.4)\n",
      "Requirement already satisfied: nltk>=3.2.1 in c:\\users\\avita\\anaconda3\\lib\\site-packages (from newspaper3k) (3.6.1)\n",
      "Requirement already satisfied: Pillow>=3.3.0 in c:\\users\\avita\\anaconda3\\lib\\site-packages (from newspaper3k) (8.2.0)\n",
      "Requirement already satisfied: python-dateutil>=2.5.3 in c:\\users\\avita\\anaconda3\\lib\\site-packages (from newspaper3k) (2.8.1)\n",
      "Requirement already satisfied: feedparser>=5.2.1 in c:\\users\\avita\\anaconda3\\lib\\site-packages (from newspaper3k) (6.0.8)\n",
      "Requirement already satisfied: PyYAML>=3.11 in c:\\users\\avita\\anaconda3\\lib\\site-packages (from newspaper3k) (5.4.1)\n",
      "Requirement already satisfied: tinysegmenter==0.3 in c:\\users\\avita\\anaconda3\\lib\\site-packages (from newspaper3k) (0.3)\n",
      "Requirement already satisfied: soupsieve>1.2 in c:\\users\\avita\\anaconda3\\lib\\site-packages (from beautifulsoup4>=4.4.1->newspaper3k) (2.2.1)\n",
      "Requirement already satisfied: six in c:\\users\\avita\\anaconda3\\lib\\site-packages (from feedfinder2>=0.0.4->newspaper3k) (1.15.0)\n",
      "Requirement already satisfied: sgmllib3k in c:\\users\\avita\\anaconda3\\lib\\site-packages (from feedparser>=5.2.1->newspaper3k) (1.0.0)\n",
      "Requirement already satisfied: click in c:\\users\\avita\\anaconda3\\lib\\site-packages (from nltk>=3.2.1->newspaper3k) (7.1.2)\n",
      "Requirement already satisfied: tqdm in c:\\users\\avita\\anaconda3\\lib\\site-packages (from nltk>=3.2.1->newspaper3k) (4.59.0)\n",
      "Requirement already satisfied: regex in c:\\users\\avita\\anaconda3\\lib\\site-packages (from nltk>=3.2.1->newspaper3k) (2021.4.4)\n",
      "Requirement already satisfied: joblib in c:\\users\\avita\\anaconda3\\lib\\site-packages (from nltk>=3.2.1->newspaper3k) (1.0.1)\n",
      "Requirement already satisfied: chardet<5,>=3.0.2 in c:\\users\\avita\\anaconda3\\lib\\site-packages (from requests>=2.10.0->newspaper3k) (4.0.0)\n",
      "Requirement already satisfied: certifi>=2017.4.17 in c:\\users\\avita\\anaconda3\\lib\\site-packages (from requests>=2.10.0->newspaper3k) (2020.12.5)\n",
      "Requirement already satisfied: urllib3<1.27,>=1.21.1 in c:\\users\\avita\\anaconda3\\lib\\site-packages (from requests>=2.10.0->newspaper3k) (1.26.4)\n",
      "Requirement already satisfied: idna<3,>=2.5 in c:\\users\\avita\\anaconda3\\lib\\site-packages (from requests>=2.10.0->newspaper3k) (2.10)\n",
      "Requirement already satisfied: filelock>=3.0.8 in c:\\users\\avita\\anaconda3\\lib\\site-packages (from tldextract>=2.0.1->newspaper3k) (3.0.12)\n",
      "Requirement already satisfied: requests-file>=1.4 in c:\\users\\avita\\anaconda3\\lib\\site-packages (from tldextract>=2.0.1->newspaper3k) (1.5.1)\n"
     ]
    }
   ],
   "source": [
    "!pip install newspaper3k"
   ]
  },
  {
   "cell_type": "code",
   "execution_count": null,
   "id": "headed-henry",
   "metadata": {},
   "outputs": [],
   "source": []
  },
  {
   "cell_type": "code",
   "execution_count": 1,
   "id": "grand-perth",
   "metadata": {},
   "outputs": [],
   "source": [
    "import tkinter as tk #For GUI\n",
    "import nltk # not going to use directly just to download a model\n",
    "from textblob import TextBlob #For Sentiment analysis                       ALL THREE LIBRARIES ARE FOR NLP\n",
    "from newspaper import Article"
   ]
  },
  {
   "cell_type": "code",
   "execution_count": 2,
   "id": "under-general",
   "metadata": {},
   "outputs": [
    {
     "name": "stderr",
     "output_type": "stream",
     "text": [
      "[nltk_data] Downloading package punkt to\n",
      "[nltk_data]     C:\\Users\\Avita\\AppData\\Roaming\\nltk_data...\n",
      "[nltk_data]   Package punkt is already up-to-date!\n"
     ]
    },
    {
     "name": "stdout",
     "output_type": "stream",
     "text": [
      "title:TikTok will partner with Oracle in the United States after Microsoft loses bid\n",
      "Authors:['Brian Fung', 'Selina Wang', 'Cnn Business']\n",
      "Publication Date:2020-09-13 00:00:00\n",
      "Summary:The news comes after weeks of speculation about the Chinese app's future in the United States.\n",
      "President Donald Trump has demanded the app be sold , or else shut down in the United States.\n",
      "The agreement with Oracle comes days before a ban on TikTok in the United States was scheduled to go into effect .\n",
      "Tensions between the United States and China are continuing to rise ahead of the US election in November.\n",
      "\"We know that any approved deal must satisfy all regulatory and national security concerns,\" the company said in a statement.\n"
     ]
    }
   ],
   "source": [
    "# Summerization and sentiment Analysis\n",
    "nltk.download('punkt')#this is a model for sentiment analysis\n",
    "url = 'https://edition.cnn.com/2020/09/13/tech/microsoft-tiktok-bytedance/index.html'\n",
    "article = Article(url) #article is the object of newspaper library\n",
    "article.download()\n",
    "article.parse() #Dissect the article into parts that it needs\n",
    "article.nlp()  # We are not doing something fancy here libraries are internally doing everything\n",
    "print(f'title:{article.title}')\n",
    "print(f'Authors:{article.authors}')\n",
    "print(f'Publication Date:{article.publish_date}')   # Attributes directly provided by the library     \n",
    "print(f'Summary:{article.summary}')#Summary is done here#"
   ]
  },
  {
   "cell_type": "code",
   "execution_count": 3,
   "id": "empty-wedding",
   "metadata": {},
   "outputs": [
    {
     "name": "stdout",
     "output_type": "stream",
     "text": [
      "0.07853946334958993\n",
      "Sentiment :positive\n"
     ]
    }
   ],
   "source": [
    "#Sentiment Analysis\n",
    "#To do this we have to change our article to text blob version               TEXT BLOB??\n",
    "analysis = TextBlob(article.text)# Here in the argument we need to pass any kind of text whose sentiment we wanna find out\n",
    "print(analysis.polarity)#Based on polarity we are gonna decide is this sentance positive or negative\n",
    "#print(analysis.sentiment)\n",
    "print(f'Sentiment :{\"positive\" if analysis.polarity > 0 else \"negative\" if analysis.polarity < 0 else \"neutral\"}')\n",
    "#This written line will tell us is out sentiment positive or negative"
   ]
  },
  {
   "cell_type": "code",
   "execution_count": 4,
   "id": "piano-congo",
   "metadata": {},
   "outputs": [
    {
     "name": "stdout",
     "output_type": "stream",
     "text": [
      "0.0\n",
      "Sentiment :neutral\n"
     ]
    }
   ],
   "source": [
    "#Some General examples of sentiments\n",
    "analysis = TextBlob(\"Hi This is Divyansh\")\n",
    "print(analysis.polarity)\n",
    "print(f'Sentiment :{\"positive\" if analysis.polarity > 0 else \"negative\" if analysis.polarity < 0 else \"neutral\"}')\n",
    "\n"
   ]
  },
  {
   "cell_type": "code",
   "execution_count": 5,
   "id": "indirect-hierarchy",
   "metadata": {},
   "outputs": [
    {
     "name": "stdout",
     "output_type": "stream",
     "text": [
      "-0.5\n",
      "Sentiment :negative\n"
     ]
    }
   ],
   "source": [
    "#Some General examples of sentiments\n",
    "analysis = TextBlob(\"Why are you sad today\")\n",
    "print(analysis.polarity)\n",
    "print(f'Sentiment :{\"positive\" if analysis.polarity > 0 else \"negative\" if analysis.polarity < 0 else \"neutral\"}')"
   ]
  },
  {
   "cell_type": "code",
   "execution_count": 6,
   "id": "liked-mortality",
   "metadata": {},
   "outputs": [
    {
     "name": "stdout",
     "output_type": "stream",
     "text": [
      "0.8\n",
      "Sentiment :positive\n"
     ]
    }
   ],
   "source": [
    "#Some General examples of sentiments\n",
    "analysis = TextBlob(\"you looks so happy\")\n",
    "print(analysis.polarity)\n",
    "print(f'Sentiment :{\"positive\" if analysis.polarity > 0 else \"negative\" if analysis.polarity < 0 else \"neutral\"}')"
   ]
  },
  {
   "cell_type": "code",
   "execution_count": 11,
   "id": "standing-dairy",
   "metadata": {},
   "outputs": [],
   "source": [
    "#Till here is the main logic of the Text Summarizer"
   ]
  },
  {
   "cell_type": "code",
   "execution_count": null,
   "id": "valued-sympathy",
   "metadata": {},
   "outputs": [
    {
     "name": "stderr",
     "output_type": "stream",
     "text": [
      "Exception in Tkinter callback\n",
      "Traceback (most recent call last):\n",
      "  File \"C:\\Users\\Avita\\anaconda3\\lib\\tkinter\\__init__.py\", line 1892, in __call__\n",
      "    return self.func(*args)\n",
      "  File \"<ipython-input-7-4d1ecf0d89d6>\", line 46, in summarize\n",
      "    publication.config(state = 'disabled')\n",
      "NameError: name 'publication' is not defined\n"
     ]
    }
   ],
   "source": [
    "# GUI\n",
    "#Providing Functionality to the button\n",
    "def summarize():\n",
    "    url = utext.get('1.0',\"end\").strip()\n",
    "    article = Article(url) #article is the object of newspaper library\n",
    "    article.download()\n",
    "    article.parse() #Dissect the article into parts that it needs\n",
    "    article.nlp()  # We are not doing something fancy here libraries are internally doing everything\n",
    "    title.config(state = 'normal')\n",
    "    author.config(state = 'normal')\n",
    "    Publication.config(state = 'normal')\n",
    "    summary.config(state = 'normal')\n",
    "    sentiment.config(state = 'normal')\n",
    "    \n",
    "    tit = article.title or 'NA' \n",
    "    title.delete('1.0','end')\n",
    "    title.insert('1.0',str(f\"{tit}\"))\n",
    "    \n",
    "    aut = article.authors or 'NA'\n",
    "    author.delete('1.0','end')\n",
    "    author.insert('1.0',str(f\"{aut}\"))\n",
    "    \n",
    "    Pub = article.publish_date or 'NA'\n",
    "    Publication.delete('1.0','end')\n",
    "    Publication.insert('1.0',str(f\"{Pub}\"))\n",
    "    \n",
    "    \n",
    "    \n",
    "    \n",
    "    \n",
    "    Sum = article.summary or 'NA'\n",
    "    summary.delete('1.0','end')\n",
    "    summary.insert('1.0',str(f\"{Sum}\"))\n",
    "    \n",
    "   \n",
    "    \n",
    "    \n",
    "    \n",
    "    \n",
    "    analysis = TextBlob(article.text)\n",
    "    sentiment.delete('1.0','end')\n",
    "    sentiment.insert('1.0', f'Polarity: {analysis.polarity} , Sentiment :{\"positive\" if analysis.polarity > 0 else \"negative\" if analysis.polarity < 0 else \"neutral\"}')\n",
    "    \n",
    "    title.config(state = 'disabled')\n",
    "    author.config(state = 'disabled')\n",
    "    publication.config(state = 'disabled')\n",
    "    summary.config(state = 'disabled')\n",
    "    sentiment.config(state = 'diabled')\n",
    "    \n",
    "    \n",
    "root = tk.Tk() #Constructor\n",
    "root.title(\"News Summarizer\")\n",
    "root.geometry('1200x600')\n",
    "tlabel = tk.Label(root,text =\"Title\")\n",
    "tlabel.pack()\n",
    "title = tk.Text(root ,height = 1 ,width = 140)\n",
    "title.config(state='disabled',bg='#dddddd')\n",
    "title.pack()\n",
    "\n",
    "\n",
    "\n",
    "\n",
    "\n",
    "\n",
    "\n",
    "\n",
    "\n",
    "alabel = tk.Label(root,text =\"Author\")\n",
    "alabel.pack()\n",
    "author = tk.Text(root ,height = 1 ,width = 140)\n",
    "author.config(state='disabled',bg='#dddddd')\n",
    "author.pack()\n",
    "\n",
    "\n",
    "\n",
    "\n",
    "\n",
    "\n",
    "\n",
    "plabel = tk.Label(root,text =\"Publication Date\")\n",
    "plabel.pack()\n",
    "Publication = tk.Text(root ,height = 1 ,width = 140)\n",
    "Publication.config(state='disabled',bg='#dddddd')\n",
    "Publication.pack()\n",
    "\n",
    "\n",
    "\n",
    "\n",
    "\n",
    "\n",
    "\n",
    "slabel = tk.Label(root,text =\"Summary\")\n",
    "slabel.pack()\n",
    "summary = tk.Text(root ,height = 20 ,width = 140)\n",
    "summary.config(state='disabled',bg='#dddddd')\n",
    "summary.pack()\n",
    "\n",
    "\n",
    "\n",
    "\n",
    "selabel = tk.Label(root,text =\"Sentiment Analysis\")\n",
    "selabel.pack()\n",
    "sentiment = tk.Text(root ,height = 1 ,width = 140)\n",
    "sentiment.config(state='disabled',bg='#dddddd')\n",
    "sentiment.pack()\n",
    "\n",
    "\n",
    "\n",
    "\n",
    "\n",
    "\n",
    "ulabel = tk.Label(root,text =\"Summary\")\n",
    "ulabel.pack()\n",
    "utext= tk.Text(root ,height = 1 ,width = 140)\n",
    "utext.pack()\n",
    "\n",
    "\n",
    "\n",
    "\n",
    "\n",
    "btn = tk.Button(root, text ='Summarize', command = summarize)\n",
    "btn.pack()\n",
    "\n",
    "root.mainloop() "
   ]
  },
  {
   "cell_type": "code",
   "execution_count": null,
   "id": "foster-north",
   "metadata": {},
   "outputs": [],
   "source": []
  },
  {
   "cell_type": "code",
   "execution_count": null,
   "id": "permanent-finance",
   "metadata": {},
   "outputs": [],
   "source": []
  },
  {
   "cell_type": "code",
   "execution_count": null,
   "id": "streaming-bracket",
   "metadata": {},
   "outputs": [],
   "source": []
  }
 ],
 "metadata": {
  "kernelspec": {
   "display_name": "Python 3",
   "language": "python",
   "name": "python3"
  },
  "language_info": {
   "codemirror_mode": {
    "name": "ipython",
    "version": 3
   },
   "file_extension": ".py",
   "mimetype": "text/x-python",
   "name": "python",
   "nbconvert_exporter": "python",
   "pygments_lexer": "ipython3",
   "version": "3.8.8"
  }
 },
 "nbformat": 4,
 "nbformat_minor": 5
}
